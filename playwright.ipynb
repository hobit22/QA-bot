{
 "cells": [
  {
   "cell_type": "code",
   "execution_count": 1,
   "metadata": {},
   "outputs": [
    {
     "data": {
      "text/plain": [
       "{'click_element': ClickTool(async_browser=<Browser type=<BrowserType name=chromium executable_path=C:\\Users\\USER\\AppData\\Local\\ms-playwright\\chromium-1091\\chrome-win\\chrome.exe> version=120.0.6099.28>),\n",
       " 'navigate_browser': NavigateTool(async_browser=<Browser type=<BrowserType name=chromium executable_path=C:\\Users\\USER\\AppData\\Local\\ms-playwright\\chromium-1091\\chrome-win\\chrome.exe> version=120.0.6099.28>),\n",
       " 'previous_webpage': NavigateBackTool(async_browser=<Browser type=<BrowserType name=chromium executable_path=C:\\Users\\USER\\AppData\\Local\\ms-playwright\\chromium-1091\\chrome-win\\chrome.exe> version=120.0.6099.28>),\n",
       " 'extract_text': ExtractTextTool(async_browser=<Browser type=<BrowserType name=chromium executable_path=C:\\Users\\USER\\AppData\\Local\\ms-playwright\\chromium-1091\\chrome-win\\chrome.exe> version=120.0.6099.28>),\n",
       " 'extract_hyperlinks': ExtractHyperlinksTool(async_browser=<Browser type=<BrowserType name=chromium executable_path=C:\\Users\\USER\\AppData\\Local\\ms-playwright\\chromium-1091\\chrome-win\\chrome.exe> version=120.0.6099.28>),\n",
       " 'get_elements': GetElementsTool(async_browser=<Browser type=<BrowserType name=chromium executable_path=C:\\Users\\USER\\AppData\\Local\\ms-playwright\\chromium-1091\\chrome-win\\chrome.exe> version=120.0.6099.28>),\n",
       " 'current_webpage': CurrentWebPageTool(async_browser=<Browser type=<BrowserType name=chromium executable_path=C:\\Users\\USER\\AppData\\Local\\ms-playwright\\chromium-1091\\chrome-win\\chrome.exe> version=120.0.6099.28>)}"
      ]
     },
     "execution_count": 1,
     "metadata": {},
     "output_type": "execute_result"
    }
   ],
   "source": [
    "from langchain_community.agent_toolkits import PlayWrightBrowserToolkit\n",
    "from langchain_community.tools.playwright.utils import (\n",
    "    create_async_playwright_browser,  # A synchronous browser is available, though it isn't compatible with jupyter.\\n\",      },\n",
    ")\n",
    "# This import is required only for jupyter notebooks, since they have their own eventloop\n",
    "import nest_asyncio\n",
    "\n",
    "nest_asyncio.apply()\n",
    "async_browser = create_async_playwright_browser()\n",
    "toolkit = PlayWrightBrowserToolkit.from_browser(async_browser=async_browser)\n",
    "tools = toolkit.get_tools()\n",
    "\n",
    "tools_by_name = {tool.name: tool for tool in tools}\n",
    "tools_by_name"
   ]
  },
  {
   "cell_type": "code",
   "execution_count": null,
   "metadata": {},
   "outputs": [],
   "source": [
    "click_element = tools_by_name[\"click_element\"]\n",
    "navigate_browser = tools_by_name[\"navigate_browser\"]\n",
    "previous_webpage = tools_by_name[\"previous_webpage\"]\n",
    "extract_text = tools_by_name[\"extract_text\"]\n",
    "extract_hyperlinks = tools_by_name[\"extract_hyperlinks\"]\n",
    "get_elements = tools_by_name[\"get_elements\"]\n",
    "current_webpage = tools_by_name[\"current_webpage\"]\n",
    "\n",
    "\n",
    "click_element"
   ]
  },
  {
   "cell_type": "code",
   "execution_count": 1,
   "metadata": {},
   "outputs": [
    {
     "name": "stdout",
     "output_type": "stream",
     "text": [
      "My custom handler, token: \n",
      "My custom handler, token: Sure\n",
      "My custom handler, token: ,\n",
      "My custom handler, token:  here\n",
      "My custom handler, token: 's\n",
      "My custom handler, token:  one\n",
      "My custom handler, token:  for\n",
      "My custom handler, token:  you\n",
      "My custom handler, token: :\n",
      "\n",
      "\n",
      "My custom handler, token: Why\n",
      "My custom handler, token:  don\n",
      "My custom handler, token: 't\n",
      "My custom handler, token:  scientists\n",
      "My custom handler, token:  trust\n",
      "My custom handler, token:  atoms\n",
      "My custom handler, token: ?\n",
      "\n",
      "\n",
      "My custom handler, token: Because\n",
      "My custom handler, token:  they\n",
      "My custom handler, token:  make\n",
      "My custom handler, token:  up\n",
      "My custom handler, token:  everything\n",
      "My custom handler, token: !\n",
      "My custom handler, token: \n"
     ]
    },
    {
     "data": {
      "text/plain": [
       "AIMessage(content=\"Sure, here's one for you:\\n\\nWhy don't scientists trust atoms?\\n\\nBecause they make up everything!\")"
      ]
     },
     "execution_count": 1,
     "metadata": {},
     "output_type": "execute_result"
    }
   ],
   "source": [
    "from langchain.callbacks.base import BaseCallbackHandler\n",
    "from langchain.schema import HumanMessage\n",
    "from langchain_community.chat_models import ChatOpenAI\n",
    "\n",
    "\n",
    "class MyCustomHandler(BaseCallbackHandler):\n",
    "    def on_llm_new_token(self, token: str, **kwargs) -> None:\n",
    "        print(f\"My custom handler, token: {token}\")\n",
    "\n",
    "\n",
    "# To enable streaming, we pass in `streaming=True` to the ChatModel constructor\n",
    "# Additionally, we pass in a list with our custom handler\n",
    "chat = ChatOpenAI(max_tokens=25, streaming=True, callbacks=[MyCustomHandler()])\n",
    "\n",
    "chat([HumanMessage(content=\"Tell me a joke\")])"
   ]
  }
 ],
 "metadata": {
  "kernelspec": {
   "display_name": "env",
   "language": "python",
   "name": "python3"
  },
  "language_info": {
   "codemirror_mode": {
    "name": "ipython",
    "version": 3
   },
   "file_extension": ".py",
   "mimetype": "text/x-python",
   "name": "python",
   "nbconvert_exporter": "python",
   "pygments_lexer": "ipython3",
   "version": "3.11.6"
  }
 },
 "nbformat": 4,
 "nbformat_minor": 2
}
